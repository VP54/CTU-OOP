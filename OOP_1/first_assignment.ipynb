{
 "cells": [
  {
   "cell_type": "code",
   "execution_count": 33,
   "metadata": {},
   "outputs": [],
   "source": [
    "class FizzBuzz():\n",
    "  \"\"\" Trida pro ukol s nazvem Fizz Buzz \"\"\"\n",
    "\n",
    "  def __init__(self, number: int):\n",
    "    self.number = number\n",
    "  \n",
    "  def podminky(self, number):\n",
    "      \"\"\" Funkce ktera kontroluje podminky hry \"\"\"\n",
    "\n",
    "      if (number %3 == 0) and (number % 5 == 0): \n",
    "          print(\"Fizz Buzz\")\n",
    "      elif number % 5 == 0: \n",
    "          print(\"Buzz\")\n",
    "      elif number % 3 == 0: \n",
    "          print(\"Fizz\")\n",
    "      else: \n",
    "          print(number)\n",
    "\n",
    "  def main(self):\n",
    "      \"\"\" Hlavni funkce, ktera generuje radu cisel a vola podminky \"\"\"\n",
    "\n",
    "      for i in range(self.number):\n",
    "        print(i)\n",
    "        self.podminky(i)\n"
   ]
  },
  {
   "cell_type": "code",
   "execution_count": 32,
   "metadata": {},
   "outputs": [
    {
     "name": "stdout",
     "output_type": "stream",
     "text": [
      "0\n",
      "Fizz Buzz\n",
      "1\n",
      "1\n",
      "2\n",
      "2\n",
      "3\n",
      "Fizz\n",
      "4\n",
      "4\n",
      "5\n",
      "Buzz\n",
      "6\n",
      "Fizz\n",
      "7\n",
      "7\n",
      "8\n",
      "8\n",
      "9\n",
      "Fizz\n",
      "10\n",
      "Buzz\n",
      "11\n",
      "11\n",
      "12\n",
      "Fizz\n",
      "13\n",
      "13\n",
      "14\n",
      "14\n",
      "15\n",
      "Fizz Buzz\n",
      "16\n",
      "16\n",
      "17\n",
      "17\n",
      "18\n",
      "Fizz\n",
      "19\n",
      "19\n",
      "20\n",
      "Buzz\n",
      "21\n",
      "Fizz\n",
      "22\n",
      "22\n",
      "23\n",
      "23\n",
      "24\n",
      "Fizz\n",
      "25\n",
      "Buzz\n",
      "26\n",
      "26\n",
      "27\n",
      "Fizz\n",
      "28\n",
      "28\n",
      "29\n",
      "29\n",
      "30\n",
      "Fizz Buzz\n",
      "31\n",
      "31\n"
     ]
    }
   ],
   "source": [
    "FizzBuzz = FizzBuzz(32)\n",
    "\n",
    "FizzBuzz.main()"
   ]
  }
 ],
 "metadata": {
  "kernelspec": {
   "display_name": "Python 3.9.12 ('base')",
   "language": "python",
   "name": "python3"
  },
  "language_info": {
   "codemirror_mode": {
    "name": "ipython",
    "version": 3
   },
   "file_extension": ".py",
   "mimetype": "text/x-python",
   "name": "python",
   "nbconvert_exporter": "python",
   "pygments_lexer": "ipython3",
   "version": "3.9.12"
  },
  "orig_nbformat": 4,
  "vscode": {
   "interpreter": {
    "hash": "aa1784bfeff960945c80aea6bd6ac4fef92d6e84c0ddcfd84ffff405bb128edf"
   }
  }
 },
 "nbformat": 4,
 "nbformat_minor": 2
}
